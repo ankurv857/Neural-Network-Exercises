{
 "cells": [
  {
   "cell_type": "code",
   "execution_count": 13,
   "metadata": {
    "collapsed": true
   },
   "outputs": [],
   "source": [
    "import numpy as np\n",
    "import random"
   ]
  },
  {
   "cell_type": "code",
   "execution_count": 14,
   "metadata": {
    "collapsed": true
   },
   "outputs": [],
   "source": [
    "#Define sigmoid function\n",
    "def sigmoid(x):\n",
    "    return 1/(1+np.exp(-x))\n",
    "#Define deriavative of sigmoid function\n",
    "def sigmoid_der(x):\n",
    "    return x*(1-x)"
   ]
  },
  {
   "cell_type": "code",
   "execution_count": 15,
   "metadata": {
    "collapsed": true
   },
   "outputs": [],
   "source": [
    "#Define Neural Network Class\n",
    "class NN:\n",
    "    def __init__(self,inputs):\n",
    "        random.seed(1)\n",
    "        self.inputs = inputs\n",
    "        self.l  = len(self.inputs)\n",
    "        self.li = len(self.inputs[0])\n",
    "        #weights for the input as well as hidden layer\n",
    "        self.wi = np.random.random((self.li , self.l))\n",
    "        self.wh = np.random.random((self.l , 1))\n",
    "    #Define method which will predict the result\n",
    "    def think(self,inp):\n",
    "        s1 = sigmoid(np.dot(inp,self.wi))\n",
    "        s2 = sigmoid(np.dot(s1,self.wh))\n",
    "        return s2\n",
    "    #Train the Neural Network\n",
    "    def train(self,inputs, outputs,it):\n",
    "        for i in range(it):\n",
    "            l0 = inputs\n",
    "            l1 = sigmoid(np.dot(l0,self.wi))\n",
    "            l2 = sigmoid(np.dot(l1,self.wh))\n",
    "            \n",
    "            l2_error = outputs - l2\n",
    "            l2_delta = np.multiply(l2_error , sigmoid_der(l2))\n",
    "            \n",
    "            l1_error = np.dot(l2_delta , self.wh.T)\n",
    "            l1_delta = np.multiply(l1_error , sigmoid_der(l1))\n",
    "            \n",
    "            #Update the weights\n",
    "            self.wh+=np.dot(l1.T , l2_delta)\n",
    "            self.wi+=np.dot(l0.T,  l1_delta)"
   ]
  },
  {
   "cell_type": "code",
   "execution_count": 33,
   "metadata": {
    "collapsed": true
   },
   "outputs": [],
   "source": [
    "inputs = np.array([[0,0],[0,1],[1,0],[1,1]])\n",
    "outputs = np.array([[0],[1],[1],[0]])"
   ]
  },
  {
   "cell_type": "code",
   "execution_count": 34,
   "metadata": {},
   "outputs": [
    {
     "name": "stdout",
     "output_type": "stream",
     "text": [
      "Before Training : \n",
      "[[ 0.73660169]\n",
      " [ 0.79146443]\n",
      " [ 0.79258028]\n",
      " [ 0.83023821]]\n",
      "After Training : \n",
      "[[ 0.0017123 ]\n",
      " [ 0.99785028]\n",
      " [ 0.99785355]\n",
      " [ 0.00225004]]\n"
     ]
    }
   ],
   "source": [
    "n = NN(inputs)\n",
    "print(\"Before Training : \")\n",
    "print n.think(inputs)\n",
    "n.train(inputs,outputs, 50000)\n",
    "print(\"After Training : \")\n",
    "print n.think(inputs)"
   ]
  },
  {
   "cell_type": "code",
   "execution_count": 28,
   "metadata": {},
   "outputs": [],
   "source": [
    "a = len(inputs)\n",
    "b = len(inputs[0])\n",
    "k = np.random.random((a ,1))"
   ]
  },
  {
   "cell_type": "code",
   "execution_count": 29,
   "metadata": {},
   "outputs": [
    {
     "data": {
      "text/plain": [
       "array([[ 0.77934401],\n",
       "       [ 0.19665226],\n",
       "       [ 0.15388818],\n",
       "       [ 0.6649494 ]])"
      ]
     },
     "execution_count": 29,
     "metadata": {},
     "output_type": "execute_result"
    }
   ],
   "source": [
    "k"
   ]
  },
  {
   "cell_type": "code",
   "execution_count": null,
   "metadata": {
    "collapsed": true
   },
   "outputs": [],
   "source": []
  }
 ],
 "metadata": {
  "kernelspec": {
   "display_name": "Python 2",
   "language": "python",
   "name": "python2"
  },
  "language_info": {
   "codemirror_mode": {
    "name": "ipython",
    "version": 2
   },
   "file_extension": ".py",
   "mimetype": "text/x-python",
   "name": "python",
   "nbconvert_exporter": "python",
   "pygments_lexer": "ipython2",
   "version": "2.7.13"
  }
 },
 "nbformat": 4,
 "nbformat_minor": 2
}
