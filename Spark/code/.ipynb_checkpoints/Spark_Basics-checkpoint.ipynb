{
 "cells": [
  {
   "cell_type": "code",
   "execution_count": 1,
   "id": "3ac3c452",
   "metadata": {},
   "outputs": [
    {
     "name": "stderr",
     "output_type": "stream",
     "text": [
      "21/10/21 17:38:22 WARN Utils: Your hostname, Ankurs-MacBook-Pro-2.local resolves to a loopback address: 127.0.0.1; using 192.168.1.11 instead (on interface en0)\n",
      "21/10/21 17:38:22 WARN Utils: Set SPARK_LOCAL_IP if you need to bind to another address\n",
      "21/10/21 17:38:23 WARN NativeCodeLoader: Unable to load native-hadoop library for your platform... using builtin-java classes where applicable\n",
      "Using Spark's default log4j profile: org/apache/spark/log4j-defaults.properties\n",
      "Setting default log level to \"WARN\".\n",
      "To adjust logging level use sc.setLogLevel(newLevel). For SparkR, use setLogLevel(newLevel).\n"
     ]
    },
    {
     "data": {
      "text/html": [
       "\n",
       "        <div>\n",
       "            <p><b>SparkContext</b></p>\n",
       "\n",
       "            <p><a href=\"http://192.168.1.11:4040\">Spark UI</a></p>\n",
       "\n",
       "            <dl>\n",
       "              <dt>Version</dt>\n",
       "                <dd><code>v3.1.2</code></dd>\n",
       "              <dt>Master</dt>\n",
       "                <dd><code>local</code></dd>\n",
       "              <dt>AppName</dt>\n",
       "                <dd><code>pyspark-shell</code></dd>\n",
       "            </dl>\n",
       "        </div>\n",
       "        "
      ],
      "text/plain": [
       "<SparkContext master=local appName=pyspark-shell>"
      ]
     },
     "execution_count": 1,
     "metadata": {},
     "output_type": "execute_result"
    }
   ],
   "source": [
    "import warnings\n",
    "warnings.filterwarnings(\"ignore\")\n",
    "import pandas as pd\n",
    "import numpy as np\n",
    "import findspark\n",
    "import pyspark\n",
    "from pyspark import SparkContext\n",
    "from pyspark.sql.session import SparkSession\n",
    "from pyspark import SparkConf\n",
    "from pyspark.sql import functions as F\n",
    "from pyspark.sql import Window\n",
    "from pyspark.sql.functions import lag, lead, first, last\n",
    "from pyspark.sql.functions import row_number,lit\n",
    "from pyspark.sql.types import DoubleType, IntegerType, StringType\n",
    "import dtale\n",
    "sc = SparkContext('local')\n",
    "spark = SparkSession(sc)\n",
    "sc"
   ]
  },
  {
   "cell_type": "code",
   "execution_count": 27,
   "id": "66fd4607",
   "metadata": {},
   "outputs": [],
   "source": [
    "raw_data = spark.read.load(\"../data/raw_data/raw_data.csv\" ,format=\"csv\", sep=\",\", inferSchema=\"true\", header=\"true\")"
   ]
  },
  {
   "cell_type": "code",
   "execution_count": 28,
   "id": "9f14c9f6",
   "metadata": {},
   "outputs": [
    {
     "data": {
      "text/plain": [
       "['Child Product',\n",
       " 'CPG',\n",
       " 'Month',\n",
       " 'Shipment in Child Cases',\n",
       " 'PPG',\n",
       " 'Parent Prod',\n",
       " ' Shipment in parent Prod Cases ',\n",
       " 'Inventory_Parent_Cases']"
      ]
     },
     "execution_count": 28,
     "metadata": {},
     "output_type": "execute_result"
    }
   ],
   "source": [
    "raw_data.columns"
   ]
  },
  {
   "cell_type": "code",
   "execution_count": 29,
   "id": "992152db",
   "metadata": {},
   "outputs": [],
   "source": [
    "raw_data = raw_data.withColumnRenamed(\"Child Product\", \"Child_Product\")\\\n",
    "                    .withColumnRenamed(\" Shipment in parent Prod Cases \", \"Shipment\")\n",
    "raw_data = raw_data.select(\"Child_Product\", \"CPG\", \"PPG\",\"Month\", \"Shipment\", \"Inventory_Parent_Cases\")"
   ]
  },
  {
   "cell_type": "code",
   "execution_count": 37,
   "id": "0f44437a",
   "metadata": {},
   "outputs": [],
   "source": [
    "raw_data.coalesce(1).write.mode('overwrite').parquet(\"../data/raw_data/raw_data.parquet\")"
   ]
  },
  {
   "cell_type": "code",
   "execution_count": 2,
   "id": "9351bd6f",
   "metadata": {},
   "outputs": [
    {
     "name": "stderr",
     "output_type": "stream",
     "text": [
      "                                                                                \r"
     ]
    }
   ],
   "source": [
    "raw_data = spark.read.parquet(\"../data/raw_data/raw_data.parquet\")"
   ]
  },
  {
   "cell_type": "code",
   "execution_count": 3,
   "id": "52b4cf51",
   "metadata": {},
   "outputs": [
    {
     "data": {
      "text/html": [
       "<div>\n",
       "<style scoped>\n",
       "    .dataframe tbody tr th:only-of-type {\n",
       "        vertical-align: middle;\n",
       "    }\n",
       "\n",
       "    .dataframe tbody tr th {\n",
       "        vertical-align: top;\n",
       "    }\n",
       "\n",
       "    .dataframe thead th {\n",
       "        text-align: right;\n",
       "    }\n",
       "</style>\n",
       "<table border=\"1\" class=\"dataframe\">\n",
       "  <thead>\n",
       "    <tr style=\"text-align: right;\">\n",
       "      <th></th>\n",
       "      <th>Child_Product</th>\n",
       "      <th>CPG</th>\n",
       "      <th>PPG</th>\n",
       "      <th>Month</th>\n",
       "      <th>Shipment</th>\n",
       "      <th>Inventory_Parent_Cases</th>\n",
       "    </tr>\n",
       "  </thead>\n",
       "  <tbody>\n",
       "    <tr>\n",
       "      <th>0</th>\n",
       "      <td>S1</td>\n",
       "      <td>C5</td>\n",
       "      <td>P1</td>\n",
       "      <td>201801</td>\n",
       "      <td>26</td>\n",
       "      <td>0</td>\n",
       "    </tr>\n",
       "    <tr>\n",
       "      <th>1</th>\n",
       "      <td>S2</td>\n",
       "      <td>C5</td>\n",
       "      <td>P1</td>\n",
       "      <td>201801</td>\n",
       "      <td>25</td>\n",
       "      <td>0</td>\n",
       "    </tr>\n",
       "  </tbody>\n",
       "</table>\n",
       "</div>"
      ],
      "text/plain": [
       "  Child_Product CPG PPG   Month Shipment  Inventory_Parent_Cases\n",
       "0            S1  C5  P1  201801       26                       0\n",
       "1            S2  C5  P1  201801       25                       0"
      ]
     },
     "execution_count": 3,
     "metadata": {},
     "output_type": "execute_result"
    }
   ],
   "source": [
    "#convert the dataframe to Pandas\n",
    "raw_data.limit(2).toPandas()"
   ]
  },
  {
   "cell_type": "code",
   "execution_count": 40,
   "id": "3ef97649",
   "metadata": {},
   "outputs": [
    {
     "name": "stdout",
     "output_type": "stream",
     "text": [
      "+-------------+---+------+\n",
      "|Child_Product|CPG| Month|\n",
      "+-------------+---+------+\n",
      "|           S1| C5|201801|\n",
      "|           S2| C5|201801|\n",
      "+-------------+---+------+\n",
      "only showing top 2 rows\n",
      "\n"
     ]
    }
   ],
   "source": [
    "#Columns selection\n",
    "col_sel = raw_data.select('Child_Product', 'CPG', 'Month')\n",
    "col_sel.show(2)"
   ]
  },
  {
   "cell_type": "code",
   "execution_count": 41,
   "id": "f5080a91",
   "metadata": {},
   "outputs": [
    {
     "name": "stdout",
     "output_type": "stream",
     "text": [
      "+-------------+---+---+------+--------+----------------------+\n",
      "|Child_Product|CPG|PPG| Month|Shipment|Inventory_Parent_Cases|\n",
      "+-------------+---+---+------+--------+----------------------+\n",
      "|          S40| C2|P11|201903|     999|                     0|\n",
      "|          S33| C2|P15|201805|     998|                    10|\n",
      "+-------------+---+---+------+--------+----------------------+\n",
      "only showing top 2 rows\n",
      "\n"
     ]
    }
   ],
   "source": [
    "#Sorting in Spark\n",
    "raw_data.sort(\"Shipment\", ascending = False).show(2)"
   ]
  },
  {
   "cell_type": "code",
   "execution_count": 42,
   "id": "fb434efb",
   "metadata": {},
   "outputs": [
    {
     "name": "stdout",
     "output_type": "stream",
     "text": [
      "+-------------+---+---+------+--------+----------------------+\n",
      "|Child_Product|CPG|PPG| Month|Shipment|Inventory_Parent_Cases|\n",
      "+-------------+---+---+------+--------+----------------------+\n",
      "|          S40| C2|P11|201903|     999|                     0|\n",
      "|          S33| C2|P15|201805|     998|                    10|\n",
      "+-------------+---+---+------+--------+----------------------+\n",
      "only showing top 2 rows\n",
      "\n"
     ]
    }
   ],
   "source": [
    "raw_data.sort(F.desc('Shipment')).show(2)"
   ]
  },
  {
   "cell_type": "code",
   "execution_count": 43,
   "id": "c2da2345",
   "metadata": {},
   "outputs": [],
   "source": [
    "#cast columns\n",
    "raw_data = raw_data.withColumn('CPG', F.col('CPG').cast(StringType()))"
   ]
  },
  {
   "cell_type": "code",
   "execution_count": 44,
   "id": "39caabeb",
   "metadata": {},
   "outputs": [
    {
     "data": {
      "text/plain": [
       "(Child_Product             object\n",
       " CPG                       object\n",
       " PPG                       object\n",
       " Month                      int32\n",
       " Shipment                  object\n",
       " Inventory_Parent_Cases     int32\n",
       " dtype: object,\n",
       " (2079, 6))"
      ]
     },
     "execution_count": 44,
     "metadata": {},
     "output_type": "execute_result"
    }
   ],
   "source": [
    "raw_data.toPandas().dtypes, raw_data.toPandas().shape"
   ]
  },
  {
   "cell_type": "code",
   "execution_count": 45,
   "id": "a16f42cc",
   "metadata": {},
   "outputs": [
    {
     "name": "stdout",
     "output_type": "stream",
     "text": [
      "+-------------+---+---+------+--------+----------------------+\n",
      "|Child_Product|CPG|PPG| Month|Shipment|Inventory_Parent_Cases|\n",
      "+-------------+---+---+------+--------+----------------------+\n",
      "|           S1| C1| P1|201801|       5|                     0|\n",
      "|           S2| C1| P1|201801|      38|                     1|\n",
      "+-------------+---+---+------+--------+----------------------+\n",
      "only showing top 2 rows\n",
      "\n"
     ]
    }
   ],
   "source": [
    "#Filter data in pyspark\n",
    "_filter = raw_data.filter((raw_data.CPG == 'C1') & (raw_data.PPG == 'P1'))\n",
    "_filter.show(2)"
   ]
  },
  {
   "cell_type": "code",
   "execution_count": 49,
   "id": "078e9027",
   "metadata": {},
   "outputs": [
    {
     "name": "stdout",
     "output_type": "stream",
     "text": [
      "+---+---+------+--------+\n",
      "|CPG|PPG| Month|Shipment|\n",
      "+---+---+------+--------+\n",
      "| C2|P18|201803|    10.0|\n",
      "| C3| P6|201803|    68.0|\n",
      "+---+---+------+--------+\n",
      "only showing top 2 rows\n",
      "\n"
     ]
    }
   ],
   "source": [
    "#groupby operations in pyspark\n",
    "_group = raw_data.groupby(['CPG', 'PPG', 'Month']).agg(F.sum('Shipment').alias('Shipment'))\n",
    "_group.show(2)"
   ]
  },
  {
   "cell_type": "code",
   "execution_count": 52,
   "id": "ea38daaa",
   "metadata": {},
   "outputs": [
    {
     "data": {
      "text/html": [
       "<div>\n",
       "<style scoped>\n",
       "    .dataframe tbody tr th:only-of-type {\n",
       "        vertical-align: middle;\n",
       "    }\n",
       "\n",
       "    .dataframe tbody tr th {\n",
       "        vertical-align: top;\n",
       "    }\n",
       "\n",
       "    .dataframe thead th {\n",
       "        text-align: right;\n",
       "    }\n",
       "</style>\n",
       "<table border=\"1\" class=\"dataframe\">\n",
       "  <thead>\n",
       "    <tr style=\"text-align: right;\">\n",
       "      <th></th>\n",
       "      <th>Child_Product</th>\n",
       "      <th>CPG</th>\n",
       "      <th>PPG</th>\n",
       "      <th>Month</th>\n",
       "      <th>Shipment</th>\n",
       "      <th>Inventory_Parent_Cases</th>\n",
       "      <th>len_ts</th>\n",
       "      <th>sum_ts</th>\n",
       "    </tr>\n",
       "  </thead>\n",
       "  <tbody>\n",
       "    <tr>\n",
       "      <th>0</th>\n",
       "      <td>S30</td>\n",
       "      <td>C2</td>\n",
       "      <td>P19</td>\n",
       "      <td>201801</td>\n",
       "      <td>13</td>\n",
       "      <td>1</td>\n",
       "      <td>26</td>\n",
       "      <td>447.0</td>\n",
       "    </tr>\n",
       "    <tr>\n",
       "      <th>1</th>\n",
       "      <td>S30</td>\n",
       "      <td>C2</td>\n",
       "      <td>P19</td>\n",
       "      <td>201802</td>\n",
       "      <td>14</td>\n",
       "      <td>2</td>\n",
       "      <td>26</td>\n",
       "      <td>447.0</td>\n",
       "    </tr>\n",
       "  </tbody>\n",
       "</table>\n",
       "</div>"
      ],
      "text/plain": [
       "  Child_Product CPG  PPG   Month Shipment  Inventory_Parent_Cases  len_ts  \\\n",
       "0           S30  C2  P19  201801       13                       1      26   \n",
       "1           S30  C2  P19  201802       14                       2      26   \n",
       "\n",
       "   sum_ts  \n",
       "0   447.0  \n",
       "1   447.0  "
      ]
     },
     "execution_count": 52,
     "metadata": {},
     "output_type": "execute_result"
    }
   ],
   "source": [
    "#Window functions\n",
    "window = Window.partitionBy('CPG', 'PPG')\n",
    "raw_data = raw_data.withColumn('len_ts', F.count('Shipment').over(window))\\\n",
    "                    .withColumn('sum_ts', F.sum('Shipment').over(window))\n",
    "raw_data.limit(2).toPandas()"
   ]
  },
  {
   "cell_type": "code",
   "execution_count": 53,
   "id": "5d8d4df7",
   "metadata": {},
   "outputs": [
    {
     "name": "stderr",
     "output_type": "stream",
     "text": [
      "                                                                                \r"
     ]
    },
    {
     "data": {
      "text/plain": [
       "96"
      ]
     },
     "execution_count": 53,
     "metadata": {},
     "output_type": "execute_result"
    }
   ],
   "source": [
    "raw_data.select('CPG', 'PPG').distinct().count()"
   ]
  },
  {
   "cell_type": "code",
   "execution_count": 4,
   "id": "0d183fc4",
   "metadata": {},
   "outputs": [],
   "source": [
    "rolled_data = raw_data.groupby('CPG', 'PPG', 'Month').agg(F.sum('Shipment').alias('Shipment'),\n",
    "                                                         F.sum('Inventory_Parent_Cases').alias('Inventory_Parent_Cases'))"
   ]
  },
  {
   "cell_type": "code",
   "execution_count": 5,
   "id": "71c276fc",
   "metadata": {},
   "outputs": [],
   "source": [
    "rolled_data = rolled_data.sort('CPG', 'PPG', 'Month')"
   ]
  },
  {
   "cell_type": "code",
   "execution_count": 6,
   "id": "ee0d3223",
   "metadata": {},
   "outputs": [
    {
     "name": "stderr",
     "output_type": "stream",
     "text": [
      "                                                                                \r"
     ]
    },
    {
     "data": {
      "text/html": [
       "<div>\n",
       "<style scoped>\n",
       "    .dataframe tbody tr th:only-of-type {\n",
       "        vertical-align: middle;\n",
       "    }\n",
       "\n",
       "    .dataframe tbody tr th {\n",
       "        vertical-align: top;\n",
       "    }\n",
       "\n",
       "    .dataframe thead th {\n",
       "        text-align: right;\n",
       "    }\n",
       "</style>\n",
       "<table border=\"1\" class=\"dataframe\">\n",
       "  <thead>\n",
       "    <tr style=\"text-align: right;\">\n",
       "      <th></th>\n",
       "      <th>CPG</th>\n",
       "      <th>PPG</th>\n",
       "      <th>Month</th>\n",
       "      <th>Shipment</th>\n",
       "      <th>Inventory_Parent_Cases</th>\n",
       "    </tr>\n",
       "  </thead>\n",
       "  <tbody>\n",
       "    <tr>\n",
       "      <th>0</th>\n",
       "      <td>C1</td>\n",
       "      <td>P1</td>\n",
       "      <td>201801</td>\n",
       "      <td>43.0</td>\n",
       "      <td>1</td>\n",
       "    </tr>\n",
       "    <tr>\n",
       "      <th>1</th>\n",
       "      <td>C1</td>\n",
       "      <td>P1</td>\n",
       "      <td>201802</td>\n",
       "      <td>13.0</td>\n",
       "      <td>1</td>\n",
       "    </tr>\n",
       "  </tbody>\n",
       "</table>\n",
       "</div>"
      ],
      "text/plain": [
       "  CPG PPG   Month  Shipment  Inventory_Parent_Cases\n",
       "0  C1  P1  201801      43.0                       1\n",
       "1  C1  P1  201802      13.0                       1"
      ]
     },
     "execution_count": 6,
     "metadata": {},
     "output_type": "execute_result"
    }
   ],
   "source": [
    "rolled_data.limit(2).toPandas()"
   ]
  },
  {
   "cell_type": "code",
   "execution_count": 17,
   "id": "e6757749",
   "metadata": {},
   "outputs": [
    {
     "name": "stderr",
     "output_type": "stream",
     "text": [
      "                                                                                \r"
     ]
    },
    {
     "data": {
      "text/html": [
       "<div>\n",
       "<style scoped>\n",
       "    .dataframe tbody tr th:only-of-type {\n",
       "        vertical-align: middle;\n",
       "    }\n",
       "\n",
       "    .dataframe tbody tr th {\n",
       "        vertical-align: top;\n",
       "    }\n",
       "\n",
       "    .dataframe thead th {\n",
       "        text-align: right;\n",
       "    }\n",
       "</style>\n",
       "<table border=\"1\" class=\"dataframe\">\n",
       "  <thead>\n",
       "    <tr style=\"text-align: right;\">\n",
       "      <th></th>\n",
       "      <th>CPG</th>\n",
       "      <th>PPG</th>\n",
       "      <th>Month</th>\n",
       "      <th>Shipment</th>\n",
       "      <th>Inventory_Parent_Cases</th>\n",
       "      <th>rolling_average</th>\n",
       "    </tr>\n",
       "  </thead>\n",
       "  <tbody>\n",
       "    <tr>\n",
       "      <th>0</th>\n",
       "      <td>C2</td>\n",
       "      <td>P19</td>\n",
       "      <td>201801</td>\n",
       "      <td>13.0</td>\n",
       "      <td>1</td>\n",
       "      <td>NaN</td>\n",
       "    </tr>\n",
       "    <tr>\n",
       "      <th>1</th>\n",
       "      <td>C2</td>\n",
       "      <td>P19</td>\n",
       "      <td>201802</td>\n",
       "      <td>15.0</td>\n",
       "      <td>2</td>\n",
       "      <td>13.0</td>\n",
       "    </tr>\n",
       "  </tbody>\n",
       "</table>\n",
       "</div>"
      ],
      "text/plain": [
       "  CPG  PPG   Month  Shipment  Inventory_Parent_Cases  rolling_average\n",
       "0  C2  P19  201801      13.0                       1              NaN\n",
       "1  C2  P19  201802      15.0                       2             13.0"
      ]
     },
     "execution_count": 17,
     "metadata": {},
     "output_type": "execute_result"
    }
   ],
   "source": [
    "#Rolling average\n",
    "window = Window.partitionBy('CPG', 'PPG').orderBy('Month').rowsBetween(-2,-1)\n",
    "rolled_data = rolled_data.withColumn('rolling_average', F.mean('Shipment').over(window))\n",
    "rolled_data.limit(2).toPandas()"
   ]
  },
  {
   "cell_type": "code",
   "execution_count": 23,
   "id": "dabf7eb2",
   "metadata": {},
   "outputs": [
    {
     "name": "stderr",
     "output_type": "stream",
     "text": [
      "                                                                                \r"
     ]
    },
    {
     "data": {
      "text/html": [
       "<div>\n",
       "<style scoped>\n",
       "    .dataframe tbody tr th:only-of-type {\n",
       "        vertical-align: middle;\n",
       "    }\n",
       "\n",
       "    .dataframe tbody tr th {\n",
       "        vertical-align: top;\n",
       "    }\n",
       "\n",
       "    .dataframe thead th {\n",
       "        text-align: right;\n",
       "    }\n",
       "</style>\n",
       "<table border=\"1\" class=\"dataframe\">\n",
       "  <thead>\n",
       "    <tr style=\"text-align: right;\">\n",
       "      <th></th>\n",
       "      <th>CPG</th>\n",
       "      <th>PPG</th>\n",
       "      <th>Month</th>\n",
       "      <th>Shipment</th>\n",
       "      <th>Inventory_Parent_Cases</th>\n",
       "      <th>rolling_average</th>\n",
       "    </tr>\n",
       "  </thead>\n",
       "  <tbody>\n",
       "    <tr>\n",
       "      <th>0</th>\n",
       "      <td>C1</td>\n",
       "      <td>P1</td>\n",
       "      <td>201801</td>\n",
       "      <td>43.0</td>\n",
       "      <td>1</td>\n",
       "      <td>NaN</td>\n",
       "    </tr>\n",
       "    <tr>\n",
       "      <th>1</th>\n",
       "      <td>C1</td>\n",
       "      <td>P1</td>\n",
       "      <td>201802</td>\n",
       "      <td>13.0</td>\n",
       "      <td>1</td>\n",
       "      <td>43.0</td>\n",
       "    </tr>\n",
       "  </tbody>\n",
       "</table>\n",
       "</div>"
      ],
      "text/plain": [
       "  CPG PPG   Month  Shipment  Inventory_Parent_Cases  rolling_average\n",
       "0  C1  P1  201801      43.0                       1              NaN\n",
       "1  C1  P1  201802      13.0                       1             43.0"
      ]
     },
     "execution_count": 23,
     "metadata": {},
     "output_type": "execute_result"
    }
   ],
   "source": [
    "_filter = rolled_data.filter((raw_data.CPG == 'C1') & (raw_data.PPG == 'P1'))\n",
    "_filter.limit(2).toPandas()"
   ]
  },
  {
   "cell_type": "code",
   "execution_count": 33,
   "id": "84a7fd04",
   "metadata": {},
   "outputs": [
    {
     "name": "stderr",
     "output_type": "stream",
     "text": [
      "21/10/21 22:51:54 WARN WindowExec: No Partition Defined for Window operation! Moving all data to a single partition, this can cause serious performance degradation.\n",
      "                                                                                \r"
     ]
    },
    {
     "name": "stdout",
     "output_type": "stream",
     "text": [
      "+------+--------+\n",
      "| Month|Month_ID|\n",
      "+------+--------+\n",
      "|201801|       1|\n",
      "|201802|       2|\n",
      "+------+--------+\n",
      "only showing top 2 rows\n",
      "\n"
     ]
    },
    {
     "name": "stderr",
     "output_type": "stream",
     "text": [
      "\r",
      "[Stage 125:================================================>    (184 + 1) / 200]\r",
      "\r",
      "                                                                                \r"
     ]
    }
   ],
   "source": [
    "calendar = rolled_data.select('Month').distinct().sort('Month')\n",
    "calendar = calendar.withColumn('Month_ID', F.row_number().over(Window().orderBy(lit('A'))))\n",
    "calendar.show(2)"
   ]
  },
  {
   "cell_type": "code",
   "execution_count": 35,
   "id": "45b19547",
   "metadata": {},
   "outputs": [
    {
     "name": "stderr",
     "output_type": "stream",
     "text": [
      "21/10/21 22:54:27 WARN WindowExec: No Partition Defined for Window operation! Moving all data to a single partition, this can cause serious performance degradation.\n",
      "                                                                                \r"
     ]
    },
    {
     "data": {
      "text/html": [
       "<div>\n",
       "<style scoped>\n",
       "    .dataframe tbody tr th:only-of-type {\n",
       "        vertical-align: middle;\n",
       "    }\n",
       "\n",
       "    .dataframe tbody tr th {\n",
       "        vertical-align: top;\n",
       "    }\n",
       "\n",
       "    .dataframe thead th {\n",
       "        text-align: right;\n",
       "    }\n",
       "</style>\n",
       "<table border=\"1\" class=\"dataframe\">\n",
       "  <thead>\n",
       "    <tr style=\"text-align: right;\">\n",
       "      <th></th>\n",
       "      <th>Month</th>\n",
       "      <th>CPG</th>\n",
       "      <th>PPG</th>\n",
       "      <th>Shipment</th>\n",
       "      <th>Inventory_Parent_Cases</th>\n",
       "      <th>rolling_average</th>\n",
       "      <th>Month_number</th>\n",
       "      <th>Month_ID</th>\n",
       "    </tr>\n",
       "  </thead>\n",
       "  <tbody>\n",
       "    <tr>\n",
       "      <th>0</th>\n",
       "      <td>201801</td>\n",
       "      <td>C2</td>\n",
       "      <td>P19</td>\n",
       "      <td>13.0</td>\n",
       "      <td>1</td>\n",
       "      <td>NaN</td>\n",
       "      <td></td>\n",
       "      <td>1</td>\n",
       "    </tr>\n",
       "    <tr>\n",
       "      <th>1</th>\n",
       "      <td>201802</td>\n",
       "      <td>C2</td>\n",
       "      <td>P19</td>\n",
       "      <td>15.0</td>\n",
       "      <td>2</td>\n",
       "      <td>13.0</td>\n",
       "      <td></td>\n",
       "      <td>2</td>\n",
       "    </tr>\n",
       "  </tbody>\n",
       "</table>\n",
       "</div>"
      ],
      "text/plain": [
       "    Month CPG  PPG  Shipment  Inventory_Parent_Cases  rolling_average  \\\n",
       "0  201801  C2  P19      13.0                       1              NaN   \n",
       "1  201802  C2  P19      15.0                       2             13.0   \n",
       "\n",
       "  Month_number  Month_ID  \n",
       "0                      1  \n",
       "1                      2  "
      ]
     },
     "execution_count": 35,
     "metadata": {},
     "output_type": "execute_result"
    }
   ],
   "source": [
    "rolled_data = rolled_data.join(calendar, on = \"Month\", how = \"inner\")\n",
    "rolled_data.limit(2).toPandas()"
   ]
  },
  {
   "cell_type": "code",
   "execution_count": 1,
   "id": "b9fb7058",
   "metadata": {},
   "outputs": [],
   "source": [
    "# dtale.show(rolled_data.toPandas())"
   ]
  },
  {
   "cell_type": "code",
   "execution_count": null,
   "id": "76d365f6",
   "metadata": {},
   "outputs": [],
   "source": []
  }
 ],
 "metadata": {
  "kernelspec": {
   "display_name": "Python 3 (ipykernel)",
   "language": "python",
   "name": "python3"
  },
  "language_info": {
   "codemirror_mode": {
    "name": "ipython",
    "version": 3
   },
   "file_extension": ".py",
   "mimetype": "text/x-python",
   "name": "python",
   "nbconvert_exporter": "python",
   "pygments_lexer": "ipython3",
   "version": "3.9.4"
  }
 },
 "nbformat": 4,
 "nbformat_minor": 5
}
