{
 "cells": [
  {
   "cell_type": "code",
   "execution_count": 1,
   "id": "3ac3c452",
   "metadata": {},
   "outputs": [],
   "source": [
    "import pandas as pd\n",
    "import numpy as np\n",
    "import findspark\n",
    "import pyspark\n",
    "from pyspark import SparkContext\n",
    "from pyspark.sql.session import SparkSession\n",
    "from pyspark import SparkConf"
   ]
  },
  {
   "cell_type": "code",
   "execution_count": 2,
   "id": "66fd4607",
   "metadata": {},
   "outputs": [
    {
     "name": "stdout",
     "output_type": "stream",
     "text": [
      "+-------------+---+------+-----------------------+---+-----------+-------------------------------+----------------------+\n",
      "|Child Product|CPG| Month|Shipment in Child Cases|PPG|Parent Prod| Shipment in parent Prod Cases |Inventory_Parent_Cases|\n",
      "+-------------+---+------+-----------------------+---+-----------+-------------------------------+----------------------+\n",
      "|           S1| C5|201801|                     26| P1|         S1|                             26|                     0|\n",
      "|           S2| C5|201801|                     33| P1|         S1|                             25|                     0|\n",
      "+-------------+---+------+-----------------------+---+-----------+-------------------------------+----------------------+\n",
      "only showing top 2 rows\n",
      "\n",
      "None\n"
     ]
    }
   ],
   "source": [
    "raw_data = spark.read.load(\"../data/raw_data/raw_data.csv\",format=\"csv\", sep=\",\", inferSchema=\"true\", header=\"true\")\n",
    "print(raw_data.show(2))"
   ]
  },
  {
   "cell_type": "code",
   "execution_count": 4,
   "id": "52b4cf51",
   "metadata": {},
   "outputs": [
    {
     "data": {
      "text/html": [
       "<div>\n",
       "<style scoped>\n",
       "    .dataframe tbody tr th:only-of-type {\n",
       "        vertical-align: middle;\n",
       "    }\n",
       "\n",
       "    .dataframe tbody tr th {\n",
       "        vertical-align: top;\n",
       "    }\n",
       "\n",
       "    .dataframe thead th {\n",
       "        text-align: right;\n",
       "    }\n",
       "</style>\n",
       "<table border=\"1\" class=\"dataframe\">\n",
       "  <thead>\n",
       "    <tr style=\"text-align: right;\">\n",
       "      <th></th>\n",
       "      <th>Child Product</th>\n",
       "      <th>CPG</th>\n",
       "      <th>Month</th>\n",
       "      <th>Shipment in Child Cases</th>\n",
       "      <th>PPG</th>\n",
       "      <th>Parent Prod</th>\n",
       "      <th>Shipment in parent Prod Cases</th>\n",
       "      <th>Inventory_Parent_Cases</th>\n",
       "    </tr>\n",
       "  </thead>\n",
       "  <tbody>\n",
       "    <tr>\n",
       "      <th>0</th>\n",
       "      <td>S1</td>\n",
       "      <td>C5</td>\n",
       "      <td>201801</td>\n",
       "      <td>26</td>\n",
       "      <td>P1</td>\n",
       "      <td>S1</td>\n",
       "      <td>26</td>\n",
       "      <td>0</td>\n",
       "    </tr>\n",
       "    <tr>\n",
       "      <th>1</th>\n",
       "      <td>S2</td>\n",
       "      <td>C5</td>\n",
       "      <td>201801</td>\n",
       "      <td>33</td>\n",
       "      <td>P1</td>\n",
       "      <td>S1</td>\n",
       "      <td>25</td>\n",
       "      <td>0</td>\n",
       "    </tr>\n",
       "  </tbody>\n",
       "</table>\n",
       "</div>"
      ],
      "text/plain": [
       "  Child Product CPG   Month Shipment in Child Cases PPG Parent Prod  \\\n",
       "0            S1  C5  201801                      26  P1          S1   \n",
       "1            S2  C5  201801                      33  P1          S1   \n",
       "\n",
       "   Shipment in parent Prod Cases   Inventory_Parent_Cases  \n",
       "0                              26                       0  \n",
       "1                              25                       0  "
      ]
     },
     "execution_count": 4,
     "metadata": {},
     "output_type": "execute_result"
    }
   ],
   "source": [
    "raw_data.limit(2).toPandas()"
   ]
  },
  {
   "cell_type": "code",
   "execution_count": null,
   "id": "3ef97649",
   "metadata": {},
   "outputs": [],
   "source": []
  }
 ],
 "metadata": {
  "kernelspec": {
   "display_name": "Python 3",
   "language": "python",
   "name": "python3"
  },
  "language_info": {
   "codemirror_mode": {
    "name": "ipython",
    "version": 3
   },
   "file_extension": ".py",
   "mimetype": "text/x-python",
   "name": "python",
   "nbconvert_exporter": "python",
   "pygments_lexer": "ipython3",
   "version": "3.6.2"
  }
 },
 "nbformat": 4,
 "nbformat_minor": 5
}
