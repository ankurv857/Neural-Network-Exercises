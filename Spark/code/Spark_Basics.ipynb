{
 "cells": [
  {
   "cell_type": "code",
   "execution_count": 9,
   "id": "3ac3c452",
   "metadata": {},
   "outputs": [],
   "source": [
    "import pandas as pd\n",
    "import numpy as np\n",
    "import findspark\n",
    "import pyspark\n",
    "from pyspark import SparkContext\n",
    "from pyspark.sql.session import SparkSession\n",
    "from pyspark import SparkConf\n",
    "from pyspark.sql import functions as F\n",
    "from pyspark.sql.types import DoubleType, IntegerType, StringType"
   ]
  },
  {
   "cell_type": "code",
   "execution_count": 2,
   "id": "66fd4607",
   "metadata": {},
   "outputs": [],
   "source": [
    "raw_data = spark.read.load(\"../data/raw_data/raw_data.csv\",format=\"csv\", sep=\",\", inferSchema=\"true\", header=\"true\")"
   ]
  },
  {
   "cell_type": "code",
   "execution_count": 3,
   "id": "52b4cf51",
   "metadata": {},
   "outputs": [
    {
     "data": {
      "text/html": [
       "<div>\n",
       "<style scoped>\n",
       "    .dataframe tbody tr th:only-of-type {\n",
       "        vertical-align: middle;\n",
       "    }\n",
       "\n",
       "    .dataframe tbody tr th {\n",
       "        vertical-align: top;\n",
       "    }\n",
       "\n",
       "    .dataframe thead th {\n",
       "        text-align: right;\n",
       "    }\n",
       "</style>\n",
       "<table border=\"1\" class=\"dataframe\">\n",
       "  <thead>\n",
       "    <tr style=\"text-align: right;\">\n",
       "      <th></th>\n",
       "      <th>Child Product</th>\n",
       "      <th>CPG</th>\n",
       "      <th>Month</th>\n",
       "      <th>Shipment in Child Cases</th>\n",
       "      <th>PPG</th>\n",
       "      <th>Parent Prod</th>\n",
       "      <th>Shipment in parent Prod Cases</th>\n",
       "      <th>Inventory_Parent_Cases</th>\n",
       "    </tr>\n",
       "  </thead>\n",
       "  <tbody>\n",
       "    <tr>\n",
       "      <th>0</th>\n",
       "      <td>S1</td>\n",
       "      <td>C5</td>\n",
       "      <td>201801</td>\n",
       "      <td>26</td>\n",
       "      <td>P1</td>\n",
       "      <td>S1</td>\n",
       "      <td>26</td>\n",
       "      <td>0</td>\n",
       "    </tr>\n",
       "    <tr>\n",
       "      <th>1</th>\n",
       "      <td>S2</td>\n",
       "      <td>C5</td>\n",
       "      <td>201801</td>\n",
       "      <td>33</td>\n",
       "      <td>P1</td>\n",
       "      <td>S1</td>\n",
       "      <td>25</td>\n",
       "      <td>0</td>\n",
       "    </tr>\n",
       "  </tbody>\n",
       "</table>\n",
       "</div>"
      ],
      "text/plain": [
       "  Child Product CPG   Month Shipment in Child Cases PPG Parent Prod  \\\n",
       "0            S1  C5  201801                      26  P1          S1   \n",
       "1            S2  C5  201801                      33  P1          S1   \n",
       "\n",
       "   Shipment in parent Prod Cases   Inventory_Parent_Cases  \n",
       "0                              26                       0  \n",
       "1                              25                       0  "
      ]
     },
     "execution_count": 3,
     "metadata": {},
     "output_type": "execute_result"
    }
   ],
   "source": [
    "#convert the dataframe to Pandas\n",
    "raw_data.limit(2).toPandas()"
   ]
  },
  {
   "cell_type": "code",
   "execution_count": 5,
   "id": "3ef97649",
   "metadata": {},
   "outputs": [
    {
     "name": "stdout",
     "output_type": "stream",
     "text": [
      "+-------------+---+------+\n",
      "|Child Product|CPG| Month|\n",
      "+-------------+---+------+\n",
      "|           S1| C5|201801|\n",
      "|           S2| C5|201801|\n",
      "+-------------+---+------+\n",
      "only showing top 2 rows\n",
      "\n"
     ]
    }
   ],
   "source": [
    "#Columns selection\n",
    "col_sel = raw_data.select('Child Product', 'CPG', 'Month')\n",
    "col_sel.show(2)"
   ]
  },
  {
   "cell_type": "code",
   "execution_count": 7,
   "id": "f5080a91",
   "metadata": {},
   "outputs": [
    {
     "name": "stdout",
     "output_type": "stream",
     "text": [
      "+-------------+---+------+-----------------------+---+-----------+-------------------------------+----------------------+\n",
      "|Child Product|CPG| Month|Shipment in Child Cases|PPG|Parent Prod| Shipment in parent Prod Cases |Inventory_Parent_Cases|\n",
      "+-------------+---+------+-----------------------+---+-----------+-------------------------------+----------------------+\n",
      "|          S32| C3|201807|                     -1|P17|        S32|                             -1|                     1|\n",
      "|          S21| C3|201906|                     -1|P13|        S21|                             -1|                     1|\n",
      "+-------------+---+------+-----------------------+---+-----------+-------------------------------+----------------------+\n",
      "only showing top 2 rows\n",
      "\n"
     ]
    }
   ],
   "source": [
    "#Sorting in Spark\n",
    "raw_data.sort(\"Shipment in Child Cases\").show(2)"
   ]
  },
  {
   "cell_type": "code",
   "execution_count": 8,
   "id": "fb434efb",
   "metadata": {},
   "outputs": [
    {
     "name": "stdout",
     "output_type": "stream",
     "text": [
      "+-------------+---+------+-----------------------+---+-----------+-------------------------------+----------------------+\n",
      "|Child Product|CPG| Month|Shipment in Child Cases|PPG|Parent Prod| Shipment in parent Prod Cases |Inventory_Parent_Cases|\n",
      "+-------------+---+------+-----------------------+---+-----------+-------------------------------+----------------------+\n",
      "|          S40| C2|201903|                    999|P11|        S66|                            999|                     0|\n",
      "|          S33| C2|201805|                    998|P15|        S62|                            998|                    10|\n",
      "+-------------+---+------+-----------------------+---+-----------+-------------------------------+----------------------+\n",
      "only showing top 2 rows\n",
      "\n"
     ]
    }
   ],
   "source": [
    "raw_data.sort(F.desc('Shipment in Child Cases')).show(2)"
   ]
  },
  {
   "cell_type": "code",
   "execution_count": 10,
   "id": "c2da2345",
   "metadata": {},
   "outputs": [],
   "source": [
    "#cast columns\n",
    "raw_data = raw_data.withColumn('CPG', F.col('CPG').cast(StringType()))"
   ]
  },
  {
   "cell_type": "code",
   "execution_count": 15,
   "id": "39caabeb",
   "metadata": {},
   "outputs": [
    {
     "data": {
      "text/plain": [
       "(Child Product                      object\n",
       " CPG                                object\n",
       " Month                               int32\n",
       " Shipment in Child Cases            object\n",
       " PPG                                object\n",
       " Parent Prod                        object\n",
       "  Shipment in parent Prod Cases     object\n",
       " Inventory_Parent_Cases              int32\n",
       " dtype: object,\n",
       " (2079, 8))"
      ]
     },
     "execution_count": 15,
     "metadata": {},
     "output_type": "execute_result"
    }
   ],
   "source": [
    "raw_data.toPandas().dtypes, raw_data.toPandas().shape"
   ]
  },
  {
   "cell_type": "code",
   "execution_count": 18,
   "id": "a16f42cc",
   "metadata": {},
   "outputs": [
    {
     "name": "stdout",
     "output_type": "stream",
     "text": [
      "+-------------+---+------+-----------------------+---+-----------+-------------------------------+----------------------+\n",
      "|Child Product|CPG| Month|Shipment in Child Cases|PPG|Parent Prod| Shipment in parent Prod Cases |Inventory_Parent_Cases|\n",
      "+-------------+---+------+-----------------------+---+-----------+-------------------------------+----------------------+\n",
      "|           S1| C1|201801|                      5| P1|         S1|                              5|                     0|\n",
      "|           S2| C1|201801|                     51| P1|         S1|                             38|                     1|\n",
      "+-------------+---+------+-----------------------+---+-----------+-------------------------------+----------------------+\n",
      "only showing top 2 rows\n",
      "\n"
     ]
    }
   ],
   "source": [
    "#Filter data in pyspark\n",
    "_filter = raw_data.filter((raw_data.CPG == 'C1') & (raw_data.PPG == 'P1'))\n",
    "_filter.show(2)"
   ]
  },
  {
   "cell_type": "code",
   "execution_count": 19,
   "id": "078e9027",
   "metadata": {},
   "outputs": [
    {
     "name": "stdout",
     "output_type": "stream",
     "text": [
      "+---+---+------+---------+\n",
      "|CPG|PPG| Month|Shipments|\n",
      "+---+---+------+---------+\n",
      "| C2|P18|201803|     10.0|\n",
      "| C3| P6|201803|     68.0|\n",
      "+---+---+------+---------+\n",
      "only showing top 2 rows\n",
      "\n"
     ]
    }
   ],
   "source": [
    "#groupby operations in pyspark\n",
    "_group = raw_data.groupby(['CPG', 'PPG', 'Month']).agg(F.sum(' Shipment in parent Prod Cases ').alias('Shipments'))\n",
    "_group.show(2)"
   ]
  },
  {
   "cell_type": "code",
   "execution_count": null,
   "id": "ea38daaa",
   "metadata": {},
   "outputs": [],
   "source": []
  }
 ],
 "metadata": {
  "kernelspec": {
   "display_name": "Python 3",
   "language": "python",
   "name": "python3"
  },
  "language_info": {
   "codemirror_mode": {
    "name": "ipython",
    "version": 3
   },
   "file_extension": ".py",
   "mimetype": "text/x-python",
   "name": "python",
   "nbconvert_exporter": "python",
   "pygments_lexer": "ipython3",
   "version": "3.6.2"
  }
 },
 "nbformat": 4,
 "nbformat_minor": 5
}
