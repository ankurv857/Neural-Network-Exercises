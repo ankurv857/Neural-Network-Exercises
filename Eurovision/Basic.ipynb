{
 "cells": [
  {
   "cell_type": "code",
   "execution_count": 1,
   "metadata": {},
   "outputs": [
    {
     "name": "stderr",
     "output_type": "stream",
     "text": [
      "Using TensorFlow backend.\n"
     ]
    },
    {
     "data": {
      "text/plain": [
       "'/Users/a0v0022/Documents/Deep_Learning'"
      ]
     },
     "execution_count": 1,
     "metadata": {},
     "output_type": "execute_result"
    }
   ],
   "source": [
    "import pandas as pd\n",
    "import numpy as np\n",
    "import os\n",
    "import keras\n",
    "from keras.models import Sequential\n",
    "from keras.layers import Dense\n",
    "from keras.wrappers.scikit_learn import KerasClassifier\n",
    "from sklearn.preprocessing import LabelEncoder\n",
    "from sklearn.preprocessing import StandardScaler\n",
    "from sklearn.pipeline import Pipeline\n",
    "from keras.models import Sequential\n",
    "from keras.layers import Dense\n",
    "from keras.wrappers.scikit_learn import KerasClassifier\n",
    "from keras.utils import np_utils\n",
    "from sklearn.preprocessing import LabelEncoder\n",
    "from sklearn.pipeline import Pipeline\n",
    "from keras.models import model_from_json\n",
    "from keras.wrappers.scikit_learn import KerasRegressor\n",
    "os.getcwd()"
   ]
  },
  {
   "cell_type": "code",
   "execution_count": 2,
   "metadata": {
    "collapsed": true
   },
   "outputs": [],
   "source": [
    "train = pd.read_csv(\"train.csv\")\n",
    "test = pd.read_csv(\"test.csv\")"
   ]
  },
  {
   "cell_type": "code",
   "execution_count": 3,
   "metadata": {},
   "outputs": [
    {
     "data": {
      "text/plain": [
       "Index([u'Year', u'Country   ', u'Region', u'Song language', u'Artist   ',\n",
       "       u'Song   ', u'English translation ', u'Artist gender', u'Group/Solo',\n",
       "       u'Place', u'Points', u'Host Country', u'Host region',\n",
       "       u'Home/Away Country', u'Home/Away Region',\n",
       "       u'Approximate Betting Prices', u'Albania ', u'Andorra ', u'Armenia ',\n",
       "       u'Austria', u'Azerbaijan ', u'Belarus ', u'Belgium ',\n",
       "       u'Bosnia and Herzegovina ', u'Bulgaria ', u'Croatia ', u'Cyprus ',\n",
       "       u'Czech Republic ', u'Denmark ', u'Estonia ', u'Finland ', u'France ',\n",
       "       u'Georgia', u'Germany ', u'Greece ', u'Hungary ', u'Iceland ',\n",
       "       u'Ireland ', u'Israel ', u'Latvia ', u'Lithuania ', u'Macedonia ',\n",
       "       u'Malta ', u'Moldova ', u'Monaco', u'Montenegro ', u'Netherlands ',\n",
       "       u'Norway ', u'Poland ', u'Portugal ', u'Romania ', u'Russia ',\n",
       "       u'San Marino', u'Serbia ', u'Serbia & Montenegro', u'Slovakia ',\n",
       "       u'Slovenia ', u'Spain ', u'Sweden ', u'Switzerland ', u'Turkey ',\n",
       "       u'Ukraine ', u'United Kingdom '],\n",
       "      dtype='object')"
      ]
     },
     "execution_count": 3,
     "metadata": {},
     "output_type": "execute_result"
    }
   ],
   "source": [
    "train = pd.DataFrame(train)\n",
    "train.columns"
   ]
  },
  {
   "cell_type": "code",
   "execution_count": 4,
   "metadata": {
    "collapsed": true
   },
   "outputs": [],
   "source": [
    "train['Flag'] = \"Train\"\n",
    "test['Flag'] = \"Test\""
   ]
  },
  {
   "cell_type": "code",
   "execution_count": 5,
   "metadata": {
    "collapsed": true
   },
   "outputs": [],
   "source": [
    "data = train.append(test, ignore_index=True)"
   ]
  },
  {
   "cell_type": "code",
   "execution_count": 6,
   "metadata": {},
   "outputs": [
    {
     "data": {
      "text/plain": [
       "(291, 64)"
      ]
     },
     "execution_count": 6,
     "metadata": {},
     "output_type": "execute_result"
    }
   ],
   "source": [
    "data.shape"
   ]
  },
  {
   "cell_type": "code",
   "execution_count": 7,
   "metadata": {
    "collapsed": true
   },
   "outputs": [],
   "source": [
    "data_feature = data.iloc[:,0:16]"
   ]
  },
  {
   "cell_type": "code",
   "execution_count": 8,
   "metadata": {},
   "outputs": [
    {
     "data": {
      "text/html": [
       "<div>\n",
       "<table border=\"1\" class=\"dataframe\">\n",
       "  <thead>\n",
       "    <tr style=\"text-align: right;\">\n",
       "      <th></th>\n",
       "      <th>Year</th>\n",
       "      <th>Country</th>\n",
       "      <th>Region</th>\n",
       "      <th>Song language</th>\n",
       "      <th>Artist</th>\n",
       "      <th>Song</th>\n",
       "      <th>English translation</th>\n",
       "      <th>Artist gender</th>\n",
       "      <th>Group/Solo</th>\n",
       "      <th>Place</th>\n",
       "      <th>Points</th>\n",
       "      <th>Host Country</th>\n",
       "      <th>Host region</th>\n",
       "      <th>Home/Away Country</th>\n",
       "      <th>Home/Away Region</th>\n",
       "      <th>Approximate Betting Prices</th>\n",
       "    </tr>\n",
       "  </thead>\n",
       "  <tbody>\n",
       "    <tr>\n",
       "      <th>0</th>\n",
       "      <td>2008</td>\n",
       "      <td>Romania</td>\n",
       "      <td>Former Socialist Bloc</td>\n",
       "      <td>Romanian, Italian</td>\n",
       "      <td>Nico and Vlad</td>\n",
       "      <td>\"Pe-o margine de lume\"</td>\n",
       "      <td>On an edge of the world</td>\n",
       "      <td>Both</td>\n",
       "      <td>Group</td>\n",
       "      <td>20</td>\n",
       "      <td>45</td>\n",
       "      <td>Serbia</td>\n",
       "      <td>Former Yugoslavia</td>\n",
       "      <td>Away</td>\n",
       "      <td>Away</td>\n",
       "      <td>95</td>\n",
       "    </tr>\n",
       "    <tr>\n",
       "      <th>1</th>\n",
       "      <td>2008</td>\n",
       "      <td>United Kingdom</td>\n",
       "      <td>Independent</td>\n",
       "      <td>English</td>\n",
       "      <td>Andy Abraham</td>\n",
       "      <td>\"Even If\"</td>\n",
       "      <td>?</td>\n",
       "      <td>Male</td>\n",
       "      <td>Solo</td>\n",
       "      <td>25</td>\n",
       "      <td>14</td>\n",
       "      <td>Serbia</td>\n",
       "      <td>Former Yugoslavia</td>\n",
       "      <td>Away</td>\n",
       "      <td>Away</td>\n",
       "      <td>265</td>\n",
       "    </tr>\n",
       "  </tbody>\n",
       "</table>\n",
       "</div>"
      ],
      "text/plain": [
       "   Year      Country                    Region      Song language  \\\n",
       "0  2008         Romania  Former Socialist Bloc  Romanian, Italian   \n",
       "1  2008  United Kingdom            Independent            English   \n",
       "\n",
       "       Artist                    Song        English translation   \\\n",
       "0  Nico and Vlad  \"Pe-o margine de lume\"  On an edge of the world   \n",
       "1   Andy Abraham               \"Even If\"                        ?   \n",
       "\n",
       "  Artist gender Group/Solo  Place  Points Host Country        Host region  \\\n",
       "0          Both      Group     20      45       Serbia  Former Yugoslavia   \n",
       "1          Male       Solo     25      14       Serbia  Former Yugoslavia   \n",
       "\n",
       "  Home/Away Country Home/Away Region  Approximate Betting Prices  \n",
       "0              Away             Away                          95  \n",
       "1              Away             Away                         265  "
      ]
     },
     "execution_count": 8,
     "metadata": {},
     "output_type": "execute_result"
    }
   ],
   "source": [
    "data_feature.head(2)"
   ]
  },
  {
   "cell_type": "code",
   "execution_count": 9,
   "metadata": {
    "collapsed": true
   },
   "outputs": [],
   "source": [
    "data_dep = data.iloc[:,16:64]\n",
    "data_dep = pd.DataFrame(data_dep)"
   ]
  },
  {
   "cell_type": "code",
   "execution_count": 11,
   "metadata": {},
   "outputs": [
    {
     "data": {
      "text/html": [
       "<div>\n",
       "<table border=\"1\" class=\"dataframe\">\n",
       "  <thead>\n",
       "    <tr style=\"text-align: right;\">\n",
       "      <th></th>\n",
       "      <th>Albania</th>\n",
       "      <th>Andorra</th>\n",
       "      <th>Armenia</th>\n",
       "      <th>Austria</th>\n",
       "      <th>Azerbaijan</th>\n",
       "      <th>Belarus</th>\n",
       "      <th>Belgium</th>\n",
       "      <th>Bosnia and Herzegovina</th>\n",
       "      <th>Bulgaria</th>\n",
       "      <th>Croatia</th>\n",
       "      <th>...</th>\n",
       "      <th>Serbia &amp; Montenegro</th>\n",
       "      <th>Slovakia</th>\n",
       "      <th>Slovenia</th>\n",
       "      <th>Spain</th>\n",
       "      <th>Sweden</th>\n",
       "      <th>Switzerland</th>\n",
       "      <th>Turkey</th>\n",
       "      <th>Ukraine</th>\n",
       "      <th>United Kingdom</th>\n",
       "      <th>Flag</th>\n",
       "    </tr>\n",
       "  </thead>\n",
       "  <tbody>\n",
       "    <tr>\n",
       "      <th>0</th>\n",
       "      <td>0</td>\n",
       "      <td>0</td>\n",
       "      <td>0</td>\n",
       "      <td>NaN</td>\n",
       "      <td>0</td>\n",
       "      <td>0</td>\n",
       "      <td>0</td>\n",
       "      <td>0</td>\n",
       "      <td>0</td>\n",
       "      <td>0</td>\n",
       "      <td>...</td>\n",
       "      <td>NaN</td>\n",
       "      <td>NaN</td>\n",
       "      <td>0</td>\n",
       "      <td>12</td>\n",
       "      <td>0</td>\n",
       "      <td>0</td>\n",
       "      <td>0</td>\n",
       "      <td>0</td>\n",
       "      <td>0</td>\n",
       "      <td>Train</td>\n",
       "    </tr>\n",
       "    <tr>\n",
       "      <th>1</th>\n",
       "      <td>0</td>\n",
       "      <td>0</td>\n",
       "      <td>0</td>\n",
       "      <td>NaN</td>\n",
       "      <td>0</td>\n",
       "      <td>0</td>\n",
       "      <td>0</td>\n",
       "      <td>0</td>\n",
       "      <td>0</td>\n",
       "      <td>0</td>\n",
       "      <td>...</td>\n",
       "      <td>NaN</td>\n",
       "      <td>NaN</td>\n",
       "      <td>0</td>\n",
       "      <td>0</td>\n",
       "      <td>0</td>\n",
       "      <td>0</td>\n",
       "      <td>0</td>\n",
       "      <td>0</td>\n",
       "      <td>NaN</td>\n",
       "      <td>Train</td>\n",
       "    </tr>\n",
       "  </tbody>\n",
       "</table>\n",
       "<p>2 rows × 48 columns</p>\n",
       "</div>"
      ],
      "text/plain": [
       "   Albania   Andorra   Armenia   Austria  Azerbaijan   Belarus   Belgium   \\\n",
       "0         0         0         0      NaN            0         0         0   \n",
       "1         0         0         0      NaN            0         0         0   \n",
       "\n",
       "   Bosnia and Herzegovina   Bulgaria   Croatia   ...    Serbia & Montenegro  \\\n",
       "0                        0          0         0  ...                    NaN   \n",
       "1                        0          0         0  ...                    NaN   \n",
       "\n",
       "   Slovakia   Slovenia   Spain   Sweden   Switzerland   Turkey   Ukraine   \\\n",
       "0        NaN          0      12        0             0        0         0   \n",
       "1        NaN          0       0        0             0        0         0   \n",
       "\n",
       "   United Kingdom    Flag  \n",
       "0                0  Train  \n",
       "1              NaN  Train  \n",
       "\n",
       "[2 rows x 48 columns]"
      ]
     },
     "execution_count": 11,
     "metadata": {},
     "output_type": "execute_result"
    }
   ],
   "source": [
    "Flag = data_dep.iloc[:,47]\n",
    "data_dep.head(2)"
   ]
  },
  {
   "cell_type": "code",
   "execution_count": 12,
   "metadata": {},
   "outputs": [],
   "source": [
    "Flag = pd.DataFrame(Flag)"
   ]
  },
  {
   "cell_type": "code",
   "execution_count": null,
   "metadata": {
    "collapsed": true
   },
   "outputs": [],
   "source": [
    "name = globals()\n",
    "for i in range(0,47):\n",
    "    dep = data_dep.iloc[:,i]\n",
    "    model_data = pd.concat([data_feature , dep , Flag] , axis = 1)\n",
    "    model_data = pd.DataFrame(model_data)\n",
    "    model_data = model_data.drop(model_data.columns[[4,5,6]], axis=1)\n",
    "    model_data = model_data.fillna(0)\n",
    "    for f in model_data.columns:\n",
    "        if model_data[f].dtype=='object':\n",
    "            lbl = LabelEncoder()\n",
    "            lbl.fit(list(model_data[f]))\n",
    "            model_data[f] = lbl.transform(list(model_data[f].values))\n",
    "            seed = 22222\n",
    "            np.random.seed(seed)\n",
    "            # split into input (X) and output (Y) variables\n",
    "            train = model_data[model_data[\"Flag\"] == 1]\n",
    "            test = model_data[model_data[\"Flag\"] == 0]\n",
    "\n",
    "            X = train.iloc[:,0:13].values\n",
    "            Y = train.iloc[:,13].values\n",
    "            outs=len(train.iloc[:,13].unique())\n",
    "            encoder = LabelEncoder()\n",
    "            encoder.fit(Y)\n",
    "            encoded_Y = encoder.transform(Y)\n",
    "\n",
    "            dummy_y = np_utils.to_categorical(encoded_Y)\n",
    "\n",
    "            #Model\n",
    "\n",
    "            def baseline_model():\n",
    "                model = Sequential()\n",
    "                model.add(Dense(30, input_dim=ins, activation='relu'))\n",
    "                model.add(Dense(outs, activation='relu'))\n",
    "                model.compile(loss='categorical_crossentropy', optimizer='adam', metrics=['accuracy'])\n",
    "                return model\n",
    "\n",
    "            model = baseline_model()\n",
    "            model.fit(X, dummy_y, nb_epoch=100, batch_size=5, verbose=2)"
   ]
  },
  {
   "cell_type": "code",
   "execution_count": 15,
   "metadata": {},
   "outputs": [
    {
     "data": {
      "text/html": [
       "<div>\n",
       "<table border=\"1\" class=\"dataframe\">\n",
       "  <thead>\n",
       "    <tr style=\"text-align: right;\">\n",
       "      <th></th>\n",
       "      <th>Year</th>\n",
       "      <th>Country</th>\n",
       "      <th>Region</th>\n",
       "      <th>Song language</th>\n",
       "      <th>Artist gender</th>\n",
       "      <th>Group/Solo</th>\n",
       "      <th>Place</th>\n",
       "      <th>Points</th>\n",
       "      <th>Host Country</th>\n",
       "      <th>Host region</th>\n",
       "      <th>Home/Away Country</th>\n",
       "      <th>Home/Away Region</th>\n",
       "      <th>Approximate Betting Prices</th>\n",
       "      <th>United Kingdom</th>\n",
       "      <th>Flag</th>\n",
       "    </tr>\n",
       "  </thead>\n",
       "  <tbody>\n",
       "    <tr>\n",
       "      <th>0</th>\n",
       "      <td>2008</td>\n",
       "      <td>31</td>\n",
       "      <td>0</td>\n",
       "      <td>56</td>\n",
       "      <td>1</td>\n",
       "      <td>1</td>\n",
       "      <td>20</td>\n",
       "      <td>45</td>\n",
       "      <td>7</td>\n",
       "      <td>1</td>\n",
       "      <td>0</td>\n",
       "      <td>0</td>\n",
       "      <td>95</td>\n",
       "      <td>0</td>\n",
       "      <td>1</td>\n",
       "    </tr>\n",
       "    <tr>\n",
       "      <th>1</th>\n",
       "      <td>2008</td>\n",
       "      <td>42</td>\n",
       "      <td>2</td>\n",
       "      <td>8</td>\n",
       "      <td>3</td>\n",
       "      <td>2</td>\n",
       "      <td>25</td>\n",
       "      <td>14</td>\n",
       "      <td>7</td>\n",
       "      <td>1</td>\n",
       "      <td>0</td>\n",
       "      <td>0</td>\n",
       "      <td>265</td>\n",
       "      <td>0</td>\n",
       "      <td>1</td>\n",
       "    </tr>\n",
       "  </tbody>\n",
       "</table>\n",
       "</div>"
      ],
      "text/plain": [
       "   Year  Country     Region  Song language  Artist gender  Group/Solo  Place  \\\n",
       "0  2008          31       0             56              1           1     20   \n",
       "1  2008          42       2              8              3           2     25   \n",
       "\n",
       "   Points  Host Country  Host region  Home/Away Country  Home/Away Region  \\\n",
       "0      45             7            1                  0                 0   \n",
       "1      14             7            1                  0                 0   \n",
       "\n",
       "   Approximate Betting Prices  United Kingdom   Flag  \n",
       "0                          95                0     1  \n",
       "1                         265                0     1  "
      ]
     },
     "execution_count": 15,
     "metadata": {},
     "output_type": "execute_result"
    }
   ],
   "source": [
    "model_data.head(2)"
   ]
  },
  {
   "cell_type": "code",
   "execution_count": 22,
   "metadata": {
    "collapsed": true
   },
   "outputs": [],
   "source": [
    "def baseline_model():\n",
    "    model = Sequential()\n",
    "    model.add(Dense(30, input_dim=cols, activation='relu'))\n",
    "    model.add(Dense(outs, activation='relu'))\n",
    "    model.compile(loss='categorical_crossentropy', optimizer='adam', metrics=['accuracy'])\n",
    "    return model"
   ]
  },
  {
   "cell_type": "code",
   "execution_count": 23,
   "metadata": {},
   "outputs": [
    {
     "name": "stderr",
     "output_type": "stream",
     "text": [
      "/Users/a0v0022/anaconda/lib/python2.7/site-packages/keras/models.py:848: UserWarning: The `nb_epoch` argument in `fit` has been renamed `epochs`.\n",
      "  warnings.warn('The `nb_epoch` argument in `fit` '\n"
     ]
    },
    {
     "name": "stdout",
     "output_type": "stream",
     "text": [
      "Epoch 1/100\n",
      "0s - loss: 13.7508 - acc: 0.0414\n",
      "Epoch 2/100\n",
      "0s - loss: 13.7000 - acc: 0.0451\n",
      "Epoch 3/100\n",
      "0s - loss: 13.6898 - acc: 0.0376\n",
      "Epoch 4/100\n",
      "0s - loss: 13.6893 - acc: 0.0376\n",
      "Epoch 5/100\n",
      "0s - loss: 13.6888 - acc: 0.0376\n",
      "Epoch 6/100\n",
      "0s - loss: 13.6828 - acc: 0.0338\n",
      "Epoch 7/100\n",
      "0s - loss: 13.6833 - acc: 0.0376\n",
      "Epoch 8/100\n",
      "0s - loss: 13.6813 - acc: 0.0376\n",
      "Epoch 9/100\n",
      "0s - loss: 13.6845 - acc: 0.0489\n",
      "Epoch 10/100\n",
      "0s - loss: 13.6839 - acc: 0.0376\n",
      "Epoch 11/100\n",
      "0s - loss: 13.6830 - acc: 0.0489\n",
      "Epoch 12/100\n",
      "0s - loss: 13.6809 - acc: 0.0564\n",
      "Epoch 13/100\n",
      "0s - loss: 13.6807 - acc: 0.0602\n",
      "Epoch 14/100\n",
      "0s - loss: 13.6827 - acc: 0.0376\n",
      "Epoch 15/100\n",
      "0s - loss: 13.6831 - acc: 0.0489\n",
      "Epoch 16/100\n",
      "0s - loss: 13.6799 - acc: 0.0414\n",
      "Epoch 17/100\n",
      "0s - loss: 13.6779 - acc: 0.0526\n",
      "Epoch 18/100\n",
      "0s - loss: 13.6784 - acc: 0.0526\n",
      "Epoch 19/100\n",
      "0s - loss: 13.6880 - acc: 0.0451\n",
      "Epoch 20/100\n",
      "0s - loss: 13.6797 - acc: 0.0526\n",
      "Epoch 21/100\n",
      "0s - loss: 13.6766 - acc: 0.0451\n",
      "Epoch 22/100\n",
      "0s - loss: 13.6812 - acc: 0.0489\n",
      "Epoch 23/100\n",
      "0s - loss: 13.6785 - acc: 0.0451\n",
      "Epoch 24/100\n",
      "0s - loss: 13.6750 - acc: 0.0602\n",
      "Epoch 25/100\n",
      "0s - loss: 13.6758 - acc: 0.0564\n",
      "Epoch 26/100\n",
      "0s - loss: 13.6775 - acc: 0.0639\n",
      "Epoch 27/100\n",
      "0s - loss: 13.6756 - acc: 0.0451\n",
      "Epoch 28/100\n",
      "0s - loss: 13.6805 - acc: 0.0526\n",
      "Epoch 29/100\n",
      "0s - loss: 13.6767 - acc: 0.0602\n",
      "Epoch 30/100\n",
      "0s - loss: 13.6774 - acc: 0.0602\n",
      "Epoch 31/100\n",
      "0s - loss: 13.6744 - acc: 0.0376\n",
      "Epoch 32/100\n",
      "0s - loss: 13.6721 - acc: 0.0526\n",
      "Epoch 33/100\n",
      "0s - loss: 13.6722 - acc: 0.0602\n",
      "Epoch 34/100\n",
      "0s - loss: 13.6711 - acc: 0.0526\n",
      "Epoch 35/100\n",
      "0s - loss: 13.6714 - acc: 0.0677\n",
      "Epoch 36/100\n",
      "0s - loss: 13.6737 - acc: 0.0602\n",
      "Epoch 37/100\n",
      "0s - loss: 13.6696 - acc: 0.0677\n",
      "Epoch 38/100\n",
      "0s - loss: 13.6700 - acc: 0.0602\n",
      "Epoch 39/100\n",
      "0s - loss: 13.6718 - acc: 0.0602\n",
      "Epoch 40/100\n",
      "0s - loss: 13.6707 - acc: 0.0526\n",
      "Epoch 41/100\n",
      "0s - loss: 13.6727 - acc: 0.0789\n",
      "Epoch 42/100\n",
      "0s - loss: 13.6704 - acc: 0.0451\n",
      "Epoch 43/100\n",
      "0s - loss: 13.6687 - acc: 0.0602\n",
      "Epoch 44/100\n",
      "0s - loss: 13.6729 - acc: 0.0714\n",
      "Epoch 45/100\n",
      "0s - loss: 13.6693 - acc: 0.0602\n",
      "Epoch 46/100\n",
      "0s - loss: 13.6723 - acc: 0.0639\n",
      "Epoch 47/100\n",
      "0s - loss: 13.6702 - acc: 0.0526\n",
      "Epoch 48/100\n",
      "0s - loss: 13.6689 - acc: 0.0639\n",
      "Epoch 49/100\n",
      "0s - loss: 13.6671 - acc: 0.0714\n",
      "Epoch 50/100\n",
      "0s - loss: 13.6689 - acc: 0.0677\n",
      "Epoch 51/100\n",
      "0s - loss: 13.6708 - acc: 0.0414\n",
      "Epoch 52/100\n",
      "0s - loss: 13.6747 - acc: 0.0526\n",
      "Epoch 53/100\n",
      "0s - loss: 13.6647 - acc: 0.0639\n",
      "Epoch 54/100\n",
      "0s - loss: 13.6704 - acc: 0.0489\n",
      "Epoch 55/100\n",
      "0s - loss: 13.6715 - acc: 0.0602\n",
      "Epoch 56/100\n",
      "0s - loss: 13.6658 - acc: 0.0639\n",
      "Epoch 57/100\n",
      "0s - loss: 13.6668 - acc: 0.0677\n",
      "Epoch 58/100\n",
      "0s - loss: 13.6683 - acc: 0.0639\n",
      "Epoch 59/100\n",
      "0s - loss: 13.6654 - acc: 0.0714\n",
      "Epoch 60/100\n",
      "0s - loss: 13.6676 - acc: 0.0602\n",
      "Epoch 61/100\n",
      "0s - loss: 13.6659 - acc: 0.0602\n",
      "Epoch 62/100\n",
      "0s - loss: 13.6647 - acc: 0.0752\n",
      "Epoch 63/100\n",
      "0s - loss: 13.6690 - acc: 0.0564\n",
      "Epoch 64/100\n",
      "0s - loss: 13.6665 - acc: 0.0639\n",
      "Epoch 65/100\n",
      "0s - loss: 13.6666 - acc: 0.0602\n",
      "Epoch 66/100\n",
      "0s - loss: 13.6673 - acc: 0.0677\n",
      "Epoch 67/100\n",
      "0s - loss: 13.6691 - acc: 0.0489\n",
      "Epoch 68/100\n",
      "0s - loss: 13.6634 - acc: 0.0602\n",
      "Epoch 69/100\n",
      "0s - loss: 13.6699 - acc: 0.0639\n",
      "Epoch 70/100\n",
      "0s - loss: 13.6675 - acc: 0.0639\n",
      "Epoch 71/100\n",
      "0s - loss: 13.6657 - acc: 0.0714\n",
      "Epoch 72/100\n",
      "0s - loss: 13.6632 - acc: 0.0564\n",
      "Epoch 73/100\n",
      "0s - loss: 13.6617 - acc: 0.0602\n",
      "Epoch 74/100\n",
      "0s - loss: 13.6617 - acc: 0.0639\n",
      "Epoch 75/100\n",
      "0s - loss: 13.6706 - acc: 0.0639\n",
      "Epoch 76/100\n",
      "0s - loss: 13.6660 - acc: 0.0639\n",
      "Epoch 77/100\n",
      "0s - loss: 13.6645 - acc: 0.0564\n",
      "Epoch 78/100\n",
      "0s - loss: 13.6612 - acc: 0.0677\n",
      "Epoch 79/100\n",
      "0s - loss: 13.6716 - acc: 0.0677\n",
      "Epoch 80/100\n",
      "0s - loss: 13.6906 - acc: 0.0451\n",
      "Epoch 81/100\n",
      "0s - loss: 13.6778 - acc: 0.0451\n",
      "Epoch 82/100\n",
      "0s - loss: 13.6734 - acc: 0.0489\n",
      "Epoch 83/100\n",
      "0s - loss: 13.6705 - acc: 0.0564\n",
      "Epoch 84/100\n",
      "0s - loss: 13.6685 - acc: 0.0602\n",
      "Epoch 85/100\n",
      "0s - loss: 13.6667 - acc: 0.0677\n",
      "Epoch 86/100\n",
      "0s - loss: 13.6651 - acc: 0.0602\n",
      "Epoch 87/100\n",
      "0s - loss: 13.6656 - acc: 0.0564\n",
      "Epoch 88/100\n",
      "0s - loss: 13.6638 - acc: 0.0677\n",
      "Epoch 89/100\n",
      "0s - loss: 13.6633 - acc: 0.0639\n",
      "Epoch 90/100\n",
      "0s - loss: 13.6617 - acc: 0.0714\n",
      "Epoch 91/100\n",
      "0s - loss: 13.6611 - acc: 0.0714\n",
      "Epoch 92/100\n",
      "0s - loss: 13.6604 - acc: 0.0602\n",
      "Epoch 93/100\n",
      "0s - loss: 13.6596 - acc: 0.0677\n",
      "Epoch 94/100\n",
      "0s - loss: 13.6593 - acc: 0.0602\n",
      "Epoch 95/100\n",
      "0s - loss: 13.6717 - acc: 0.0639\n",
      "Epoch 96/100\n",
      "0s - loss: 13.6640 - acc: 0.0564\n",
      "Epoch 97/100\n",
      "0s - loss: 13.6604 - acc: 0.0639\n",
      "Epoch 98/100\n",
      "0s - loss: 13.6615 - acc: 0.0677\n",
      "Epoch 99/100\n",
      "0s - loss: 13.6619 - acc: 0.0639\n",
      "Epoch 100/100\n",
      "0s - loss: 13.6623 - acc: 0.0602\n"
     ]
    },
    {
     "data": {
      "text/plain": [
       "<keras.callbacks.History at 0x1136fe1d0>"
      ]
     },
     "execution_count": 23,
     "metadata": {},
     "output_type": "execute_result"
    }
   ],
   "source": [
    "model = baseline_model()\n",
    "model.fit(X, dummy_y, nb_epoch=100, batch_size=5, verbose=2)"
   ]
  },
  {
   "cell_type": "code",
   "execution_count": 24,
   "metadata": {},
   "outputs": [
    {
     "name": "stdout",
     "output_type": "stream",
     "text": [
      "[3 3 4 4 3 3 4 4 3 3 4 4 3 4 4 4 3 4 3 4 4 3 4 4 3]\n"
     ]
    }
   ],
   "source": [
    "X_test = test.iloc[:,0:13].values\n",
    "\n",
    "# predictions\n",
    "predictions = model.predict_classes(X_test, verbose=0)\n",
    "print(predictions)"
   ]
  }
 ],
 "metadata": {
  "kernelspec": {
   "display_name": "Python 2",
   "language": "python",
   "name": "python2"
  },
  "language_info": {
   "codemirror_mode": {
    "name": "ipython",
    "version": 2
   },
   "file_extension": ".py",
   "mimetype": "text/x-python",
   "name": "python",
   "nbconvert_exporter": "python",
   "pygments_lexer": "ipython2",
   "version": "2.7.13"
  }
 },
 "nbformat": 4,
 "nbformat_minor": 2
}
