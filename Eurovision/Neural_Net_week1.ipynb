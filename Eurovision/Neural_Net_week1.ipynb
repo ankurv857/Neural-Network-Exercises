{
 "cells": [
  {
   "cell_type": "code",
   "execution_count": 1,
   "metadata": {
    "collapsed": false
   },
   "outputs": [
    {
     "data": {
      "text/plain": [
       "'/Users/ankur/Documents/Videoken'"
      ]
     },
     "execution_count": 1,
     "metadata": {},
     "output_type": "execute_result"
    }
   ],
   "source": [
    "import pandas as pd\n",
    "import numpy as np\n",
    "import os\n",
    "os.getcwd()"
   ]
  },
  {
   "cell_type": "code",
   "execution_count": 2,
   "metadata": {
    "collapsed": true
   },
   "outputs": [],
   "source": [
    "train = pd.read_csv(\"train.csv\")\n",
    "test = pd.read_csv(\"test.csv\")"
   ]
  },
  {
   "cell_type": "code",
   "execution_count": 21,
   "metadata": {
    "collapsed": false
   },
   "outputs": [
    {
     "data": {
      "text/plain": [
       "Index([u'Year', u'Country   ', u'Region', u'Song language', u'Artist   ',\n",
       "       u'Song   ', u'English translation ', u'Artist gender', u'Group/Solo',\n",
       "       u'Place', u'Points', u'Host Country', u'Host region',\n",
       "       u'Home/Away Country', u'Home/Away Region',\n",
       "       u'Approximate Betting Prices', u'Albania ', u'Andorra ', u'Armenia ',\n",
       "       u'Austria', u'Azerbaijan ', u'Belarus ', u'Belgium ',\n",
       "       u'Bosnia and Herzegovina ', u'Bulgaria ', u'Croatia ', u'Cyprus ',\n",
       "       u'Czech Republic ', u'Denmark ', u'Estonia ', u'Finland ', u'France ',\n",
       "       u'Georgia', u'Germany ', u'Greece ', u'Hungary ', u'Iceland ',\n",
       "       u'Ireland ', u'Israel ', u'Latvia ', u'Lithuania ', u'Macedonia ',\n",
       "       u'Malta ', u'Moldova ', u'Monaco', u'Montenegro ', u'Netherlands ',\n",
       "       u'Norway ', u'Poland ', u'Portugal ', u'Romania ', u'Russia ',\n",
       "       u'San Marino', u'Serbia ', u'Serbia & Montenegro', u'Slovakia ',\n",
       "       u'Slovenia ', u'Spain ', u'Sweden ', u'Switzerland ', u'Turkey ',\n",
       "       u'Ukraine ', u'United Kingdom ', u'Flag'],\n",
       "      dtype='object')"
      ]
     },
     "execution_count": 21,
     "metadata": {},
     "output_type": "execute_result"
    }
   ],
   "source": [
    "train = pd.DataFrame(train)\n",
    "train.columns"
   ]
  },
  {
   "cell_type": "code",
   "execution_count": 19,
   "metadata": {
    "collapsed": false
   },
   "outputs": [],
   "source": [
    "train['Flag'] = \"Train\"\n",
    "test['Flag'] = \"Test\""
   ]
  },
  {
   "cell_type": "code",
   "execution_count": 24,
   "metadata": {
    "collapsed": true
   },
   "outputs": [],
   "source": [
    "data = train.append(test, ignore_index=True)"
   ]
  },
  {
   "cell_type": "code",
   "execution_count": 29,
   "metadata": {
    "collapsed": false
   },
   "outputs": [
    {
     "data": {
      "text/plain": [
       "(291, 64)"
      ]
     },
     "execution_count": 29,
     "metadata": {},
     "output_type": "execute_result"
    }
   ],
   "source": [
    "data.shape"
   ]
  },
  {
   "cell_type": "code",
   "execution_count": 30,
   "metadata": {
    "collapsed": false
   },
   "outputs": [
    {
     "data": {
      "text/html": [
       "<div>\n",
       "<table border=\"1\" class=\"dataframe\">\n",
       "  <thead>\n",
       "    <tr style=\"text-align: right;\">\n",
       "      <th></th>\n",
       "      <th>Year</th>\n",
       "      <th>Country</th>\n",
       "      <th>Region</th>\n",
       "      <th>Song language</th>\n",
       "      <th>Artist</th>\n",
       "      <th>Song</th>\n",
       "      <th>English translation</th>\n",
       "      <th>Artist gender</th>\n",
       "      <th>Group/Solo</th>\n",
       "      <th>Place</th>\n",
       "      <th>...</th>\n",
       "      <th>Serbia &amp; Montenegro</th>\n",
       "      <th>Slovakia</th>\n",
       "      <th>Slovenia</th>\n",
       "      <th>Spain</th>\n",
       "      <th>Sweden</th>\n",
       "      <th>Switzerland</th>\n",
       "      <th>Turkey</th>\n",
       "      <th>Ukraine</th>\n",
       "      <th>United Kingdom</th>\n",
       "      <th>Flag</th>\n",
       "    </tr>\n",
       "  </thead>\n",
       "  <tbody>\n",
       "    <tr>\n",
       "      <th>0</th>\n",
       "      <td>2008</td>\n",
       "      <td>Romania</td>\n",
       "      <td>Former Socialist Bloc</td>\n",
       "      <td>Romanian, Italian</td>\n",
       "      <td>Nico and Vlad</td>\n",
       "      <td>\"Pe-o margine de lume\"</td>\n",
       "      <td>On an edge of the world</td>\n",
       "      <td>Both</td>\n",
       "      <td>Group</td>\n",
       "      <td>20.0</td>\n",
       "      <td>...</td>\n",
       "      <td>NaN</td>\n",
       "      <td>NaN</td>\n",
       "      <td>0.0</td>\n",
       "      <td>12.0</td>\n",
       "      <td>0.0</td>\n",
       "      <td>0.0</td>\n",
       "      <td>0.0</td>\n",
       "      <td>0.0</td>\n",
       "      <td>0.0</td>\n",
       "      <td>Train</td>\n",
       "    </tr>\n",
       "    <tr>\n",
       "      <th>1</th>\n",
       "      <td>2008</td>\n",
       "      <td>United Kingdom</td>\n",
       "      <td>Independent</td>\n",
       "      <td>English</td>\n",
       "      <td>Andy Abraham</td>\n",
       "      <td>\"Even If\"</td>\n",
       "      <td>?</td>\n",
       "      <td>Male</td>\n",
       "      <td>Solo</td>\n",
       "      <td>25.0</td>\n",
       "      <td>...</td>\n",
       "      <td>NaN</td>\n",
       "      <td>NaN</td>\n",
       "      <td>0.0</td>\n",
       "      <td>0.0</td>\n",
       "      <td>0.0</td>\n",
       "      <td>0.0</td>\n",
       "      <td>0.0</td>\n",
       "      <td>0.0</td>\n",
       "      <td>NaN</td>\n",
       "      <td>Train</td>\n",
       "    </tr>\n",
       "    <tr>\n",
       "      <th>2</th>\n",
       "      <td>2008</td>\n",
       "      <td>Albania</td>\n",
       "      <td>Former Socialist Bloc</td>\n",
       "      <td>Albanian</td>\n",
       "      <td>Olta Boka</td>\n",
       "      <td>\"Zemr�n e lam� peng\"</td>\n",
       "      <td>Hearts trapped in time</td>\n",
       "      <td>Female</td>\n",
       "      <td>Solo</td>\n",
       "      <td>17.0</td>\n",
       "      <td>...</td>\n",
       "      <td>NaN</td>\n",
       "      <td>NaN</td>\n",
       "      <td>4.0</td>\n",
       "      <td>0.0</td>\n",
       "      <td>0.0</td>\n",
       "      <td>8.0</td>\n",
       "      <td>1.0</td>\n",
       "      <td>0.0</td>\n",
       "      <td>0.0</td>\n",
       "      <td>Train</td>\n",
       "    </tr>\n",
       "    <tr>\n",
       "      <th>3</th>\n",
       "      <td>2008</td>\n",
       "      <td>Germany</td>\n",
       "      <td>Western Europe</td>\n",
       "      <td>English</td>\n",
       "      <td>No Angels</td>\n",
       "      <td>\"Disappear\"</td>\n",
       "      <td>?</td>\n",
       "      <td>Female</td>\n",
       "      <td>Group</td>\n",
       "      <td>23.0</td>\n",
       "      <td>...</td>\n",
       "      <td>NaN</td>\n",
       "      <td>NaN</td>\n",
       "      <td>0.0</td>\n",
       "      <td>0.0</td>\n",
       "      <td>0.0</td>\n",
       "      <td>2.0</td>\n",
       "      <td>0.0</td>\n",
       "      <td>0.0</td>\n",
       "      <td>0.0</td>\n",
       "      <td>Train</td>\n",
       "    </tr>\n",
       "    <tr>\n",
       "      <th>4</th>\n",
       "      <td>2008</td>\n",
       "      <td>Armenia</td>\n",
       "      <td>Former Socialist Bloc</td>\n",
       "      <td>English, Armenian</td>\n",
       "      <td>Sirusho</td>\n",
       "      <td>\"Q�l�, Q�l�\"</td>\n",
       "      <td>Come on, come on</td>\n",
       "      <td>Female</td>\n",
       "      <td>Solo</td>\n",
       "      <td>4.0</td>\n",
       "      <td>...</td>\n",
       "      <td>NaN</td>\n",
       "      <td>NaN</td>\n",
       "      <td>5.0</td>\n",
       "      <td>10.0</td>\n",
       "      <td>2.0</td>\n",
       "      <td>0.0</td>\n",
       "      <td>10.0</td>\n",
       "      <td>7.0</td>\n",
       "      <td>0.0</td>\n",
       "      <td>Train</td>\n",
       "    </tr>\n",
       "  </tbody>\n",
       "</table>\n",
       "<p>5 rows × 64 columns</p>\n",
       "</div>"
      ],
      "text/plain": [
       "   Year      Country                    Region      Song language  \\\n",
       "0  2008         Romania  Former Socialist Bloc  Romanian, Italian   \n",
       "1  2008  United Kingdom            Independent            English   \n",
       "2  2008         Albania  Former Socialist Bloc           Albanian   \n",
       "3  2008         Germany         Western Europe            English   \n",
       "4  2008         Armenia  Former Socialist Bloc  English, Armenian   \n",
       "\n",
       "       Artist                    Song        English translation   \\\n",
       "0  Nico and Vlad  \"Pe-o margine de lume\"  On an edge of the world   \n",
       "1   Andy Abraham               \"Even If\"                        ?   \n",
       "2      Olta Boka    \"Zemr�n e lam� peng\"   Hearts trapped in time   \n",
       "3      No Angels             \"Disappear\"                        ?   \n",
       "4        Sirusho            \"Q�l�, Q�l�\"         Come on, come on   \n",
       "\n",
       "  Artist gender Group/Solo  Place  ...    Serbia & Montenegro Slovakia   \\\n",
       "0          Both      Group   20.0  ...                    NaN       NaN   \n",
       "1          Male       Solo   25.0  ...                    NaN       NaN   \n",
       "2        Female       Solo   17.0  ...                    NaN       NaN   \n",
       "3        Female      Group   23.0  ...                    NaN       NaN   \n",
       "4        Female       Solo    4.0  ...                    NaN       NaN   \n",
       "\n",
       "  Slovenia  Spain  Sweden   Switzerland   Turkey   Ukraine   United Kingdom   \\\n",
       "0       0.0   12.0     0.0           0.0      0.0       0.0              0.0   \n",
       "1       0.0    0.0     0.0           0.0      0.0       0.0              NaN   \n",
       "2       4.0    0.0     0.0           8.0      1.0       0.0              0.0   \n",
       "3       0.0    0.0     0.0           2.0      0.0       0.0              0.0   \n",
       "4       5.0   10.0     2.0           0.0     10.0       7.0              0.0   \n",
       "\n",
       "    Flag  \n",
       "0  Train  \n",
       "1  Train  \n",
       "2  Train  \n",
       "3  Train  \n",
       "4  Train  \n",
       "\n",
       "[5 rows x 64 columns]"
      ]
     },
     "execution_count": 30,
     "metadata": {},
     "output_type": "execute_result"
    }
   ],
   "source": [
    "data.head(5)"
   ]
  },
  {
   "cell_type": "code",
   "execution_count": 33,
   "metadata": {
    "collapsed": true
   },
   "outputs": [],
   "source": [
    "data_feature = data.iloc[:,0:16]"
   ]
  },
  {
   "cell_type": "code",
   "execution_count": 34,
   "metadata": {
    "collapsed": false
   },
   "outputs": [
    {
     "data": {
      "text/html": [
       "<div>\n",
       "<table border=\"1\" class=\"dataframe\">\n",
       "  <thead>\n",
       "    <tr style=\"text-align: right;\">\n",
       "      <th></th>\n",
       "      <th>Year</th>\n",
       "      <th>Country</th>\n",
       "      <th>Region</th>\n",
       "      <th>Song language</th>\n",
       "      <th>Artist</th>\n",
       "      <th>Song</th>\n",
       "      <th>English translation</th>\n",
       "      <th>Artist gender</th>\n",
       "      <th>Group/Solo</th>\n",
       "      <th>Place</th>\n",
       "      <th>Points</th>\n",
       "      <th>Host Country</th>\n",
       "      <th>Host region</th>\n",
       "      <th>Home/Away Country</th>\n",
       "      <th>Home/Away Region</th>\n",
       "      <th>Approximate Betting Prices</th>\n",
       "    </tr>\n",
       "  </thead>\n",
       "  <tbody>\n",
       "    <tr>\n",
       "      <th>0</th>\n",
       "      <td>2008</td>\n",
       "      <td>Romania</td>\n",
       "      <td>Former Socialist Bloc</td>\n",
       "      <td>Romanian, Italian</td>\n",
       "      <td>Nico and Vlad</td>\n",
       "      <td>\"Pe-o margine de lume\"</td>\n",
       "      <td>On an edge of the world</td>\n",
       "      <td>Both</td>\n",
       "      <td>Group</td>\n",
       "      <td>20.0</td>\n",
       "      <td>45.0</td>\n",
       "      <td>Serbia</td>\n",
       "      <td>Former Yugoslavia</td>\n",
       "      <td>Away</td>\n",
       "      <td>Away</td>\n",
       "      <td>95.0</td>\n",
       "    </tr>\n",
       "    <tr>\n",
       "      <th>1</th>\n",
       "      <td>2008</td>\n",
       "      <td>United Kingdom</td>\n",
       "      <td>Independent</td>\n",
       "      <td>English</td>\n",
       "      <td>Andy Abraham</td>\n",
       "      <td>\"Even If\"</td>\n",
       "      <td>?</td>\n",
       "      <td>Male</td>\n",
       "      <td>Solo</td>\n",
       "      <td>25.0</td>\n",
       "      <td>14.0</td>\n",
       "      <td>Serbia</td>\n",
       "      <td>Former Yugoslavia</td>\n",
       "      <td>Away</td>\n",
       "      <td>Away</td>\n",
       "      <td>265.0</td>\n",
       "    </tr>\n",
       "  </tbody>\n",
       "</table>\n",
       "</div>"
      ],
      "text/plain": [
       "   Year      Country                    Region      Song language  \\\n",
       "0  2008         Romania  Former Socialist Bloc  Romanian, Italian   \n",
       "1  2008  United Kingdom            Independent            English   \n",
       "\n",
       "       Artist                    Song        English translation   \\\n",
       "0  Nico and Vlad  \"Pe-o margine de lume\"  On an edge of the world   \n",
       "1   Andy Abraham               \"Even If\"                        ?   \n",
       "\n",
       "  Artist gender Group/Solo  Place  Points Host Country        Host region  \\\n",
       "0          Both      Group   20.0    45.0       Serbia  Former Yugoslavia   \n",
       "1          Male       Solo   25.0    14.0       Serbia  Former Yugoslavia   \n",
       "\n",
       "  Home/Away Country Home/Away Region  Approximate Betting Prices  \n",
       "0              Away             Away                        95.0  \n",
       "1              Away             Away                       265.0  "
      ]
     },
     "execution_count": 34,
     "metadata": {},
     "output_type": "execute_result"
    }
   ],
   "source": [
    "data_feature.head(2)"
   ]
  },
  {
   "cell_type": "code",
   "execution_count": 35,
   "metadata": {
    "collapsed": true
   },
   "outputs": [],
   "source": [
    "data_dep = data.iloc[:,17:64]"
   ]
  },
  {
   "cell_type": "code",
   "execution_count": 36,
   "metadata": {
    "collapsed": false
   },
   "outputs": [
    {
     "data": {
      "text/html": [
       "<div>\n",
       "<table border=\"1\" class=\"dataframe\">\n",
       "  <thead>\n",
       "    <tr style=\"text-align: right;\">\n",
       "      <th></th>\n",
       "      <th>Andorra</th>\n",
       "      <th>Armenia</th>\n",
       "      <th>Austria</th>\n",
       "      <th>Azerbaijan</th>\n",
       "      <th>Belarus</th>\n",
       "      <th>Belgium</th>\n",
       "      <th>Bosnia and Herzegovina</th>\n",
       "      <th>Bulgaria</th>\n",
       "      <th>Croatia</th>\n",
       "      <th>Cyprus</th>\n",
       "      <th>...</th>\n",
       "      <th>Serbia &amp; Montenegro</th>\n",
       "      <th>Slovakia</th>\n",
       "      <th>Slovenia</th>\n",
       "      <th>Spain</th>\n",
       "      <th>Sweden</th>\n",
       "      <th>Switzerland</th>\n",
       "      <th>Turkey</th>\n",
       "      <th>Ukraine</th>\n",
       "      <th>United Kingdom</th>\n",
       "      <th>Flag</th>\n",
       "    </tr>\n",
       "  </thead>\n",
       "  <tbody>\n",
       "    <tr>\n",
       "      <th>0</th>\n",
       "      <td>0.0</td>\n",
       "      <td>0.0</td>\n",
       "      <td>NaN</td>\n",
       "      <td>0.0</td>\n",
       "      <td>0.0</td>\n",
       "      <td>0.0</td>\n",
       "      <td>0.0</td>\n",
       "      <td>0.0</td>\n",
       "      <td>0.0</td>\n",
       "      <td>3.0</td>\n",
       "      <td>...</td>\n",
       "      <td>NaN</td>\n",
       "      <td>NaN</td>\n",
       "      <td>0.0</td>\n",
       "      <td>12.0</td>\n",
       "      <td>0.0</td>\n",
       "      <td>0.0</td>\n",
       "      <td>0.0</td>\n",
       "      <td>0.0</td>\n",
       "      <td>0.0</td>\n",
       "      <td>Train</td>\n",
       "    </tr>\n",
       "    <tr>\n",
       "      <th>1</th>\n",
       "      <td>0.0</td>\n",
       "      <td>0.0</td>\n",
       "      <td>NaN</td>\n",
       "      <td>0.0</td>\n",
       "      <td>0.0</td>\n",
       "      <td>0.0</td>\n",
       "      <td>0.0</td>\n",
       "      <td>0.0</td>\n",
       "      <td>0.0</td>\n",
       "      <td>0.0</td>\n",
       "      <td>...</td>\n",
       "      <td>NaN</td>\n",
       "      <td>NaN</td>\n",
       "      <td>0.0</td>\n",
       "      <td>0.0</td>\n",
       "      <td>0.0</td>\n",
       "      <td>0.0</td>\n",
       "      <td>0.0</td>\n",
       "      <td>0.0</td>\n",
       "      <td>NaN</td>\n",
       "      <td>Train</td>\n",
       "    </tr>\n",
       "  </tbody>\n",
       "</table>\n",
       "<p>2 rows × 47 columns</p>\n",
       "</div>"
      ],
      "text/plain": [
       "   Andorra   Armenia   Austria  Azerbaijan   Belarus   Belgium   \\\n",
       "0       0.0       0.0      NaN          0.0       0.0       0.0   \n",
       "1       0.0       0.0      NaN          0.0       0.0       0.0   \n",
       "\n",
       "   Bosnia and Herzegovina   Bulgaria   Croatia   Cyprus   ...    \\\n",
       "0                      0.0        0.0       0.0      3.0  ...     \n",
       "1                      0.0        0.0       0.0      0.0  ...     \n",
       "\n",
       "   Serbia & Montenegro  Slovakia   Slovenia   Spain   Sweden   Switzerland   \\\n",
       "0                  NaN        NaN        0.0    12.0      0.0           0.0   \n",
       "1                  NaN        NaN        0.0     0.0      0.0           0.0   \n",
       "\n",
       "   Turkey   Ukraine   United Kingdom    Flag  \n",
       "0      0.0       0.0              0.0  Train  \n",
       "1      0.0       0.0              NaN  Train  \n",
       "\n",
       "[2 rows x 47 columns]"
      ]
     },
     "execution_count": 36,
     "metadata": {},
     "output_type": "execute_result"
    }
   ],
   "source": [
    "data_dep.head(2)"
   ]
  },
  {
   "cell_type": "code",
   "execution_count": 47,
   "metadata": {
    "collapsed": false
   },
   "outputs": [],
   "source": [
    "name = globals()\n",
    "for i in range(0,46):\n",
    "    name['dep%d' % i] = data_dep.iloc[:,i]\n",
    "    model_data = data_feature.append(dep, ignore_index=True)"
   ]
  }
 ],
 "metadata": {
  "kernelspec": {
   "display_name": "Python 2",
   "language": "python",
   "name": "python2"
  },
  "language_info": {
   "codemirror_mode": {
    "name": "ipython",
    "version": 2
   },
   "file_extension": ".py",
   "mimetype": "text/x-python",
   "name": "python",
   "nbconvert_exporter": "python",
   "pygments_lexer": "ipython2",
   "version": "2.7.13"
  }
 },
 "nbformat": 4,
 "nbformat_minor": 2
}
